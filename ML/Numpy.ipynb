{
 "cells": [
  {
   "cell_type": "markdown",
   "id": "c304e8d6-c209-4a28-a152-1a28e840f09b",
   "metadata": {},
   "source": [
    "##### import libraries"
   ]
  },
  {
   "cell_type": "code",
   "execution_count": 3,
   "id": "dbcdc97b-f907-402d-9865-7f35a6ba4048",
   "metadata": {},
   "outputs": [],
   "source": [
    "import numpy as np\n",
    "import pandas as pd"
   ]
  },
  {
   "cell_type": "markdown",
   "id": "fb7eb7e3-2d48-4960-8b26-93cd2ce23bc7",
   "metadata": {},
   "source": [
    "#### define array a"
   ]
  },
  {
   "cell_type": "code",
   "execution_count": 15,
   "id": "3fa0b334-c5ae-436d-af03-730baa61038b",
   "metadata": {},
   "outputs": [
    {
     "data": {
      "text/plain": [
       "array([ 0,  1,  2,  3,  4,  5,  6,  7,  8,  9, 10, 11, 12, 13, 14])"
      ]
     },
     "execution_count": 15,
     "metadata": {},
     "output_type": "execute_result"
    }
   ],
   "source": [
    "a = np.arange(15)\n",
    "a"
   ]
  },
  {
   "cell_type": "code",
   "execution_count": 18,
   "id": "690b8d59-374a-446c-b8a3-8690c225da59",
   "metadata": {},
   "outputs": [
    {
     "name": "stdout",
     "output_type": "stream",
     "text": [
      "(15,)\n",
      "1\n",
      "15\n"
     ]
    }
   ],
   "source": [
    "print(a.shape) #number of crows and columns\n",
    "print(a.ndim)  #number of dimentions\n",
    "print(a.size)  #number of numbers\n",
    "print(type(b))"
   ]
  },
  {
   "cell_type": "markdown",
   "id": "3b14572f-c8da-482c-b778-7ff6d34e187c",
   "metadata": {},
   "source": [
    "#### change the dimentions of the array"
   ]
  },
  {
   "cell_type": "code",
   "execution_count": 41,
   "id": "72f31e65-ade8-4ab5-82fc-422ec30123b4",
   "metadata": {},
   "outputs": [
    {
     "ename": "ValueError",
     "evalue": "cannot reshape array of size 15 into shape (3,3)",
     "output_type": "error",
     "traceback": [
      "\u001b[1;31m---------------------------------------------------------------------------\u001b[0m",
      "\u001b[1;31mValueError\u001b[0m                                Traceback (most recent call last)",
      "Cell \u001b[1;32mIn[41], line 1\u001b[0m\n\u001b[1;32m----> 1\u001b[0m a \u001b[38;5;241m=\u001b[39m \u001b[43ma\u001b[49m\u001b[38;5;241;43m.\u001b[39;49m\u001b[43mreshape\u001b[49m\u001b[43m(\u001b[49m\u001b[38;5;241;43m3\u001b[39;49m\u001b[43m,\u001b[49m\u001b[38;5;241;43m3\u001b[39;49m\u001b[43m)\u001b[49m\n",
      "\u001b[1;31mValueError\u001b[0m: cannot reshape array of size 15 into shape (3,3)"
     ]
    }
   ],
   "source": [
    "a = a.reshape(3,5)"
   ]
  },
  {
   "cell_type": "code",
   "execution_count": 32,
   "id": "ad5b4848-91c2-407b-8ab0-90521f666f45",
   "metadata": {},
   "outputs": [
    {
     "name": "stdout",
     "output_type": "stream",
     "text": [
      "(3, 5)\n",
      "2\n",
      "15\n",
      "<class 'numpy.ndarray'>\n"
     ]
    }
   ],
   "source": [
    "print(a.shape) #number of crows and columns\n",
    "print(a.ndim)  #number of dimentions\n",
    "print(a.size)  #number of numbers\n",
    "print(type(b))"
   ]
  },
  {
   "cell_type": "markdown",
   "id": "14da931d-cd26-41cb-ad2b-1bee4fd058bd",
   "metadata": {},
   "source": [
    "#### define second array"
   ]
  },
  {
   "cell_type": "code",
   "execution_count": 42,
   "id": "a8112381-425f-48ea-9a86-84a1e2d6178c",
   "metadata": {},
   "outputs": [
    {
     "data": {
      "text/plain": [
       "array([[1., 1., 1.],\n",
       "       [1., 1., 1.],\n",
       "       [1., 1., 1.]])"
      ]
     },
     "execution_count": 42,
     "metadata": {},
     "output_type": "execute_result"
    }
   ],
   "source": [
    "b=np.ones((3,3))\n",
    "b"
   ]
  },
  {
   "cell_type": "code",
   "execution_count": 31,
   "id": "c3ba025a-ab30-4860-a41e-ddedc7592885",
   "metadata": {},
   "outputs": [
    {
     "name": "stdout",
     "output_type": "stream",
     "text": [
      "(3, 4)\n",
      "2\n",
      "12\n",
      "<class 'numpy.ndarray'>\n"
     ]
    }
   ],
   "source": [
    "print(b.shape) #number of crows and columns\n",
    "print(b.ndim)  #number of dimentions\n",
    "print(b.size)  #number of numbers\n",
    "print(type(b))"
   ]
  },
  {
   "cell_type": "markdown",
   "id": "3fa9b4c8-5dd0-41c0-9dce-7b6f165c2a34",
   "metadata": {},
   "source": [
    "## now let's do math on a and b"
   ]
  },
  {
   "cell_type": "code",
   "execution_count": 50,
   "id": "9108c3a2-55d4-462a-ae34-719098a34ca4",
   "metadata": {},
   "outputs": [],
   "source": [
    "a = np.arange(9).reshape(3, 3)\n"
   ]
  },
  {
   "cell_type": "code",
   "execution_count": 57,
   "id": "a6bec517-f655-4e65-a4d8-9125cd23fe68",
   "metadata": {},
   "outputs": [
    {
     "data": {
      "text/plain": [
       "array([[0., 1., 2.],\n",
       "       [3., 4., 5.],\n",
       "       [6., 7., 8.]])"
      ]
     },
     "execution_count": 57,
     "metadata": {},
     "output_type": "execute_result"
    }
   ],
   "source": [
    "#Element-wise multiplication \n",
    "#(multiolies the numbers in a and b which have the identical adress)\n",
    "a*b "
   ]
  },
  {
   "cell_type": "code",
   "execution_count": 53,
   "id": "3aa5de60-92de-4ae5-82da-4782e3adf724",
   "metadata": {},
   "outputs": [
    {
     "data": {
      "text/plain": [
       "array([[ 3.,  3.,  3.],\n",
       "       [12., 12., 12.],\n",
       "       [21., 21., 21.]])"
      ]
     },
     "execution_count": 53,
     "metadata": {},
     "output_type": "execute_result"
    }
   ],
   "source": [
    "a@b #performs matrix multiplication"
   ]
  },
  {
   "cell_type": "code",
   "execution_count": 64,
   "id": "0ec781c7-496f-472b-914b-ef0bc89ba9a3",
   "metadata": {},
   "outputs": [
    {
     "name": "stdout",
     "output_type": "stream",
     "text": [
      "Exponential: [[1.00000000e+00 2.71828183e+00 7.38905610e+00]\n",
      " [2.00855369e+01 5.45981500e+01 1.48413159e+02]\n",
      " [4.03428793e+02 1.09663316e+03 2.98095799e+03]]\n",
      "Logarithmic: [[      -inf 0.         0.69314718]\n",
      " [1.09861229 1.38629436 1.60943791]\n",
      " [1.79175947 1.94591015 2.07944154]]\n"
     ]
    },
    {
     "name": "stderr",
     "output_type": "stream",
     "text": [
      "C:\\Users\\90536\\AppData\\Local\\Temp\\ipykernel_3808\\345755663.py:2: RuntimeWarning: divide by zero encountered in log\n",
      "  print(\"Logarithmic:\", np.log(a)) #calculate logarithm  of every element\n"
     ]
    }
   ],
   "source": [
    "print(\"Exponential:\", np.exp(a)) #calculate exponential of every element\n",
    "print(\"Logarithmic:\", np.log(a)) #calculate logarithm  of every element"
   ]
  },
  {
   "cell_type": "code",
   "execution_count": 59,
   "id": "9c336e0d-901c-4e11-8739-0d04818f1173",
   "metadata": {},
   "outputs": [
    {
     "data": {
      "text/plain": [
       "array([[ 0.        ,  0.84147098,  0.90929743],\n",
       "       [ 0.14112001, -0.7568025 , -0.95892427],\n",
       "       [-0.2794155 ,  0.6569866 ,  0.98935825]])"
      ]
     },
     "execution_count": 59,
     "metadata": {},
     "output_type": "execute_result"
    }
   ],
   "source": [
    "np.sin(a) #sinus value of every element of the matrix"
   ]
  },
  {
   "cell_type": "markdown",
   "id": "99b24293-9eee-48f0-84ab-ce5d78a8c442",
   "metadata": {},
   "source": [
    "### Generate a random array of shape (3, 3)y)"
   ]
  },
  {
   "cell_type": "code",
   "execution_count": 62,
   "id": "8320e93f-eadd-4665-adf2-ce589166af97",
   "metadata": {},
   "outputs": [
    {
     "data": {
      "text/plain": [
       "array([[0.23087097, 0.02898656, 0.61354867],\n",
       "       [0.00177759, 0.63399649, 0.41236348],\n",
       "       [0.20873682, 0.46201713, 0.35607587]])"
      ]
     },
     "execution_count": 62,
     "metadata": {},
     "output_type": "execute_result"
    }
   ],
   "source": [
    "random_array = np.random.rand(3, 3)\n",
    "random_array"
   ]
  },
  {
   "cell_type": "code",
   "execution_count": 67,
   "id": "9f54d1b2-890b-469c-93b2-32e684d421a9",
   "metadata": {},
   "outputs": [
    {
     "name": "stdout",
     "output_type": "stream",
     "text": [
      "[[0 1 2]\n",
      " [3 4 5]\n",
      " [6 7 8]]\n",
      "[[0.         1.         1.41421356]\n",
      " [1.73205081 2.         2.23606798]\n",
      " [2.44948974 2.64575131 2.82842712]]\n",
      "[[0.   1.   1.41]\n",
      " [1.73 2.   2.24]\n",
      " [2.45 2.65 2.83]]\n"
     ]
    }
   ],
   "source": [
    "print(a)\n",
    "# Square root of an array\n",
    "sqrt_array = np.sqrt(a)\n",
    "print(sqrt_array)\n",
    "\n",
    "# Rounding elements of an array\n",
    "rounded_array = np.round(sqrt_array, decimals=2)\n",
    "print(rounded_array)"
   ]
  },
  {
   "cell_type": "code",
   "execution_count": 68,
   "id": "9b19912c-5ce4-4738-9641-7bcb2e409c57",
   "metadata": {},
   "outputs": [
    {
     "data": {
      "text/plain": [
       "array([[-0.66161811, -0.18267236, -0.53565792,  0.33615817],\n",
       "       [ 1.63436794,  0.68463463,  0.07683006,  0.42876474],\n",
       "       [-0.11189719,  1.75011375, -0.08404069, -1.25099155],\n",
       "       [ 0.401662  ,  1.52588655, -0.84226075, -0.74647609],\n",
       "       [-0.19708814,  0.8409187 , -0.453812  , -0.71455288],\n",
       "       [-0.97486804,  0.94081573, -0.56453939,  0.63208163]])"
      ]
     },
     "execution_count": 68,
     "metadata": {},
     "output_type": "execute_result"
    }
   ],
   "source": [
    "np.random.rand(6,4)  #generated numbers are positive\n",
    "np.random.randn(6,4) #generated numbers are near zero(including negative numbers)"
   ]
  },
  {
   "cell_type": "markdown",
   "id": "c30446cb-e0c7-4e85-a61b-a6c1f3fb775e",
   "metadata": {},
   "source": [
    "### Generate random numbers in array"
   ]
  },
  {
   "cell_type": "code",
   "execution_count": 92,
   "id": "35a1c630-f348-473c-98a8-f5f2074d9c2b",
   "metadata": {},
   "outputs": [
    {
     "name": "stdout",
     "output_type": "stream",
     "text": [
      "Random array:\n",
      "[[0.0195897  0.58142523 0.93539552]\n",
      " [0.83289901 0.10860128 0.59434332]\n",
      " [0.96382686 0.26951951 0.90741055]]\n",
      "Random numbers from a normal distribution:\n",
      "[[13.89049156 12.29396542]\n",
      " [17.96332921 14.34647775]]\n",
      "Shuffled array: [3 1 5 4 2]\n",
      "Random permutation: [4 3 5 2 1]\n"
     ]
    }
   ],
   "source": [
    "\n",
    "\n",
    "# Generate a random array of shape (3, 3)\n",
    "random_array = np.random.rand(3, 3)\n",
    "print(\"Random array:\")\n",
    "print(random_array)\n",
    "\n",
    "# Generate random numbers from a normal distribution with mean 10 and standard deviation 5\n",
    "random_normal = np.random.normal(10, 5, size=(2, 2))\n",
    "print(\"Random numbers from a normal distribution:\")\n",
    "print(random_normal)\n",
    "\n",
    "# Shuffle an array\n",
    "original_array = np.array([1, 2, 3, 4, 5])\n",
    "np.random.shuffle(original_array)\n",
    "print(\"Shuffled array:\", original_array)\n",
    "\n",
    "# Generate a random permutation of a sequence\n",
    "permutation = np.random.permutation([1, 2, 3, 4, 5])\n",
    "print(\"Random permutation:\", permutation)"
   ]
  },
  {
   "cell_type": "markdown",
   "id": "9f77b415-fc20-4549-acb9-8b08d4cfac87",
   "metadata": {},
   "source": [
    "### Indexing"
   ]
  },
  {
   "cell_type": "code",
   "execution_count": 99,
   "id": "8f20b76e-eea2-417c-8dfb-770811c1249f",
   "metadata": {},
   "outputs": [
    {
     "name": "stdout",
     "output_type": "stream",
     "text": [
      "[[0 1 2]\n",
      " [3 4 5]\n",
      " [6 7 8]]\n",
      "5\n"
     ]
    }
   ],
   "source": [
    "# Accessing the element at row 1, column 2\n",
    "print(a)\n",
    "print(a[1, 2])"
   ]
  },
  {
   "cell_type": "markdown",
   "id": "93980f59-43a2-4203-b988-0e22dd1beaca",
   "metadata": {},
   "source": [
    "#### Accessing specific elements of an array using indexing."
   ]
  },
  {
   "cell_type": "code",
   "execution_count": 102,
   "id": "2a8875b4-bc4a-4dac-a28b-0c7b93601e94",
   "metadata": {},
   "outputs": [
    {
     "name": "stdout",
     "output_type": "stream",
     "text": [
      "[[0 1 2]\n",
      " [3 4 5]\n",
      " [6 7 8]]\n",
      "Element at row 1, column 2: 5\n",
      "Row 1: [3 4 5]\n",
      "Column 2: [2 5 8]\n"
     ]
    }
   ],
   "source": [
    "print(a)\n",
    "\n",
    "# Accessing a single element\n",
    "print(\"Element at row 1, column 2:\", a[1, 2])\n",
    "\n",
    "# Accessing a row\n",
    "print(\"Row 1:\", a[1])\n",
    "\n",
    "# Accessing a column\n",
    "print(\"Column 2:\", a[:, 2])"
   ]
  },
  {
   "cell_type": "markdown",
   "id": "e188ecd3-06fd-46fa-bd72-631281a3e995",
   "metadata": {},
   "source": [
    "#### Let's filter elements"
   ]
  },
  {
   "cell_type": "code",
   "execution_count": 105,
   "id": "821cd737-a0a0-404a-b247-af9719909906",
   "metadata": {},
   "outputs": [
    {
     "name": "stdout",
     "output_type": "stream",
     "text": [
      "Elements greater than 2: [3 4 5 6 7 8]\n",
      "Elements less than 5: [0 1 2 3 4]\n"
     ]
    }
   ],
   "source": [
    "# Filter elements greater than 2\n",
    "filtered_a = a[a > 2]\n",
    "print(\"Elements greater than 2:\", filtered_a)\n",
    "\n",
    "# Use the boolean array to filter elements\n",
    "a_less2 = a < 5\n",
    "filtered_a = a[a_less2]\n",
    "print(\"Elements less than 5:\", filtered_a)"
   ]
  },
  {
   "cell_type": "markdown",
   "id": "d6fe3519-ebba-4383-b33b-33fa30cc3d06",
   "metadata": {},
   "source": [
    "### Average & Standart Deviation\n",
    "\n",
    "##### Mean (Average)  The mean of a dataset is the average value of all the data points. (sum/quantity)\n",
    "##### Standard Deviation: the spread or dispersion of the values around the mean. It quantifies the amount of variation or uncertainty in the dataset. A low standard deviation indicates that the data points tend to be close to the mean, while a high standard deviation indicates that the data points are spread out over a wider range of values."
   ]
  },
  {
   "cell_type": "code",
   "execution_count": 106,
   "id": "ef0a66ca-2df8-47ca-b459-12acb975d841",
   "metadata": {},
   "outputs": [
    {
     "name": "stdout",
     "output_type": "stream",
     "text": [
      "[[0 1 2]\n",
      " [3 4 5]\n",
      " [6 7 8]]\n",
      "Mean: 4.0\n",
      "Standard Deviation: 2.581988897471611\n"
     ]
    }
   ],
   "source": [
    "print(a)\n",
    "a_mean = np.mean(a)\n",
    "a_deviation = np.std(a)\n",
    "print(\"Mean:\", a_mean)\n",
    "print(\"Standard Deviation:\", a_deviation)\n"
   ]
  },
  {
   "cell_type": "markdown",
   "id": "ed96683f-59a7-4801-bd41-515e48727bab",
   "metadata": {},
   "source": [
    "#### Aggregation"
   ]
  },
  {
   "cell_type": "code",
   "execution_count": 111,
   "id": "d07a3e6c-8b4d-4514-ab17-e56c350bf20d",
   "metadata": {},
   "outputs": [
    {
     "name": "stdout",
     "output_type": "stream",
     "text": [
      "[[0 1 2]\n",
      " [3 4 5]\n",
      " [6 7 8]]\n",
      "Total Sum: 36\n",
      "Row-wise Sum: [ 3 12 21]\n",
      "Column-wise Sum: [ 9 12 15]\n",
      "Maximum Value: 8\n",
      "Minimum Value: 0\n",
      "Unique Values: [0 1 2 3 4 5 6 7 8]\n",
      "Counts: [1 1 1 1 1 1 1 1 1]\n"
     ]
    }
   ],
   "source": [
    "# Normal sum\n",
    "print(a)\n",
    "a_sum = np.sum(a)\n",
    "print(\"Total Sum:\", a_sum)\n",
    "\n",
    "# row-wise sum\n",
    "a_row_sum = np.sum(a, axis=1)\n",
    "print(\"Row-wise Sum:\", a_row_sum)\n",
    "\n",
    "# column-wise sum\n",
    "a_col_sum = np.sum(a, axis=0)\n",
    "print(\"Column-wise Sum:\", a_col_sum)\n",
    "\n",
    "#min & max\n",
    "max_value = np.max(a)\n",
    "min_value = np.min(a)\n",
    "print(\"Maximum Value:\", max_value)\n",
    "print(\"Minimum Value:\", min_value)\n",
    "\n",
    "# Find unique values and counts\n",
    "unique_values, counts = np.unique(a, return_counts=True)\n",
    "print(\"Unique Values:\", unique_values)\n",
    "print(\"Counts:\", counts)"
   ]
  },
  {
   "cell_type": "code",
   "execution_count": null,
   "id": "e48bd1d5-63cf-4146-8862-329206a0aff6",
   "metadata": {},
   "outputs": [],
   "source": []
  }
 ],
 "metadata": {
  "kernelspec": {
   "display_name": "Python 3 (ipykernel)",
   "language": "python",
   "name": "python3"
  },
  "language_info": {
   "codemirror_mode": {
    "name": "ipython",
    "version": 3
   },
   "file_extension": ".py",
   "mimetype": "text/x-python",
   "name": "python",
   "nbconvert_exporter": "python",
   "pygments_lexer": "ipython3",
   "version": "3.12.2"
  }
 },
 "nbformat": 4,
 "nbformat_minor": 5
}
